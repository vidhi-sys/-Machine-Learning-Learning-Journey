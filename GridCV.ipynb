{
  "nbformat": 4,
  "nbformat_minor": 0,
  "metadata": {
    "colab": {
      "provenance": [],
      "authorship_tag": "ABX9TyM0xGaZfz/xMCtcny8T+150",
      "include_colab_link": true
    },
    "kernelspec": {
      "name": "python3",
      "display_name": "Python 3"
    },
    "language_info": {
      "name": "python"
    }
  },
  "cells": [
    {
      "cell_type": "markdown",
      "metadata": {
        "id": "view-in-github",
        "colab_type": "text"
      },
      "source": [
        "<a href=\"https://colab.research.google.com/github/vidhi-sys/Machine-Learning-Journey/blob/main/GridCV.ipynb\" target=\"_parent\"><img src=\"https://colab.research.google.com/assets/colab-badge.svg\" alt=\"Open In Colab\"/></a>"
      ]
    },
    {
      "cell_type": "code",
      "execution_count": 20,
      "metadata": {
        "id": "aXsVHcI5mGmj"
      },
      "outputs": [],
      "source": [
        "import pandas as pd\n",
        "import numpy as np\n",
        "import matplotlib.pyplot as plt\n",
        "import seaborn as sns\n",
        "from sklearn.model_selection import GridSearchCV\n",
        "from sklearn.metrics import accuracy_score\n",
        "import warnings\n",
        "warnings.filterwarnings('ignore')"
      ]
    },
    {
      "cell_type": "code",
      "source": [
        "data=pd.read_csv('Ice_cream selling data.csv')\n",
        "print(data.head())"
      ],
      "metadata": {
        "colab": {
          "base_uri": "https://localhost:8080/"
        },
        "id": "cbzC2k5ZoRnh",
        "outputId": "008dab2e-946e-467b-8fa9-2a4408c791f4"
      },
      "execution_count": 9,
      "outputs": [
        {
          "output_type": "stream",
          "name": "stdout",
          "text": [
            "   Temperature (°C)  Ice Cream Sales (units)\n",
            "0         -4.662263                41.842986\n",
            "1         -4.316559                34.661120\n",
            "2         -4.213985                39.383001\n",
            "3         -3.949661                37.539845\n",
            "4         -3.578554                32.284531\n"
          ]
        }
      ]
    },
    {
      "cell_type": "code",
      "source": [
        "x=data['Ice Cream Sales (units)']\n",
        "y=data['Temperature (°C)']"
      ],
      "metadata": {
        "id": "xUeaDlOXoaob"
      },
      "execution_count": 11,
      "outputs": []
    },
    {
      "cell_type": "code",
      "source": [
        "param_grid = {\n",
        "    'n_neighbors': [3, 5, 7, 9],\n",
        "    'weights': ['uniform', 'distance'],\n",
        "    'metric': ['euclidean', 'manhattan']\n",
        "}"
      ],
      "metadata": {
        "id": "a0LW_CXNoz8v"
      },
      "execution_count": 16,
      "outputs": []
    },
    {
      "cell_type": "code",
      "source": [
        "from sklearn.neighbors import KNeighborsRegressor # Import KNeighborsRegressor\n",
        "\n",
        "model = KNeighborsRegressor() # Use KNeighborsRegressor\n",
        "grid_search = GridSearchCV(model, param_grid, cv=5)\n",
        "grid_search.fit(x.values.reshape(-1, 1), y)\n",
        "\n",
        "print(\"Best parameters:\", grid_search.best_params_)\n",
        "print(\"Best score:\", grid_search.best_score_)"
      ],
      "metadata": {
        "colab": {
          "base_uri": "https://localhost:8080/"
        },
        "id": "Yt1i3J_8pGkf",
        "outputId": "ec0cc021-ac92-4d2a-e59b-1d0cbf1449b0"
      },
      "execution_count": 22,
      "outputs": [
        {
          "output_type": "stream",
          "name": "stdout",
          "text": [
            "Best parameters: {'metric': 'euclidean', 'n_neighbors': 9, 'weights': 'uniform'}\n",
            "Best score: -55.731654499762655\n"
          ]
        }
      ]
    },
    {
      "cell_type": "code",
      "source": [
        "best_params = grid_search.best_params_\n",
        "param_names = list(best_params.keys())\n",
        "param_values = list(best_params.values())\n",
        "\n",
        "# Filter out non-numerical parameters for the bar plot\n",
        "numerical_params = {k: v for k, v in best_params.items() if isinstance(v, (int, float))}\n",
        "numerical_param_names = list(numerical_params.keys())\n",
        "numerical_param_values = list(numerical_params.values())\n",
        "\n",
        "if numerical_param_values: # Only plot if there are numerical parameters\n",
        "    plt.figure(figsize=(8, 6))\n",
        "    plt.bar(numerical_param_names, numerical_param_values)\n",
        "    plt.title('Best Numerical Parameters from Grid Search')\n",
        "    plt.xlabel('Parameter')\n",
        "    plt.ylabel('Value')\n",
        "    plt.show()\n",
        "else:\n",
        "    print(\"No numerical parameters to plot.\")\n",
        "\n",
        "print(\"Best parameters:\", best_params)"
      ],
      "metadata": {
        "colab": {
          "base_uri": "https://localhost:8080/",
          "height": 581
        },
        "id": "q-NLsooWqFvN",
        "outputId": "2ba938d9-1805-4b07-b160-d93deb756e30"
      },
      "execution_count": 25,
      "outputs": [
        {
          "output_type": "display_data",
          "data": {
            "text/plain": [
              "<Figure size 800x600 with 1 Axes>"
            ],
            "image/png": "[encoded data removed]"
          },
          "metadata": {}
        },
        {
          "output_type": "stream",
          "name": "stdout",
          "text": [
            "Best parameters: {'metric': 'euclidean', 'n_neighbors': 9, 'weights': 'uniform'}\n"
          ]
        }
      ]
    }
  ]
}